{
 "cells": [
  {
   "cell_type": "code",
   "execution_count": null,
   "id": "221ed95f-9d97-46ed-ac69-9e1d61e1f966",
   "metadata": {},
   "outputs": [],
   "source": [
    "import requests"
   ]
  },
  {
   "cell_type": "code",
   "execution_count": null,
   "id": "935ce87e-b44a-4e10-8cf3-88c621ecb35c",
   "metadata": {},
   "outputs": [],
   "source": [
    "#source_bucket to choose from\n",
    "#\"caib-aiims\", \"caib-pgimer\", \"caib-rgcirc\""
   ]
  },
  {
   "cell_type": "code",
   "execution_count": 1,
   "id": "19250b62-0f6a-4f18-beba-d8e323982697",
   "metadata": {},
   "outputs": [
    {
     "ename": "SyntaxError",
     "evalue": "invalid syntax (4039360943.py, line 3)",
     "output_type": "error",
     "traceback": [
      "\u001b[0;36m  Cell \u001b[0;32mIn[1], line 3\u001b[0;36m\u001b[0m\n\u001b[0;31m    URL of your Flask API\u001b[0m\n\u001b[0m        ^\u001b[0m\n\u001b[0;31mSyntaxError\u001b[0m\u001b[0;31m:\u001b[0m invalid syntax\n"
     ]
    }
   ],
   "source": [
    "#jupyter notebook commands\n",
    "\n",
    "import requests\n",
    "\n",
    "URL of your Flask API\n",
    "api_url = 'hosturl'  \n",
    "\n",
    "#payload data \n",
    "payload = {'source_bucket': 'caib-rgcirc'}  # Input the source bucket name as per your bucket name\n",
    "\n",
    "#  GET or POST request to your Flask API\n",
    "response = requests.post(api_url, data=payload)  \n",
    "\n",
    "# Print the response\n",
    "print(response.text)\n"
   ]
  },
  {
   "cell_type": "code",
   "execution_count": null,
   "id": "92795718-2290-42e0-b6ef-aa1f1d3b4077",
   "metadata": {},
   "outputs": [],
   "source": [
    "#linux command\n",
    "curl -X POST -d \"source_bucket=caib-rgcirc\" http://127.0.0.1:5000/b2bsync\n"
   ]
  }
 ],
 "metadata": {
  "kernelspec": {
   "display_name": "Python 3 (ipykernel)",
   "language": "python",
   "name": "python3"
  },
  "language_info": {
   "codemirror_mode": {
    "name": "ipython",
    "version": 3
   },
   "file_extension": ".py",
   "mimetype": "text/x-python",
   "name": "python",
   "nbconvert_exporter": "python",
   "pygments_lexer": "ipython3",
   "version": "3.10.12"
  }
 },
 "nbformat": 4,
 "nbformat_minor": 5
}
