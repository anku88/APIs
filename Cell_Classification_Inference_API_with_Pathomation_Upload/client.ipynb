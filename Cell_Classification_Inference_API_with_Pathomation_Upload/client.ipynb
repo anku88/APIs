{
 "cells": [
  {
   "cell_type": "code",
   "execution_count": null,
   "id": "f78722cf-a0a1-47d2-8889-237e4f79a699",
   "metadata": {},
   "outputs": [],
   "source": [
    "#client command to call API from python\n",
    "#for_directory\n",
    "import requests\n",
    "\n",
    "url = 'http://deploymentdomain/inference'  # Update the URL with your server details\n",
    "data = {\n",
    "    'username': 'usernamegiventoclient',\n",
    "    'password': 'passwordgiventoclient',\n",
    "    'input_type': 'directory',  # or 'file' depending on your input\n",
    "    'input_value': 'foldername',  # path to the directory or file\n",
    "    'mgfnlevel': 10,  # replace with the desired magnification level\n",
    "}\n",
    "\n",
    "response = requests.post(url, data=data)\n",
    "\n",
    "print(response.text)\n",
    "\n"
   ]
  },
  {
   "cell_type": "code",
   "execution_count": null,
   "id": "3c83df5b-a5d9-4287-80f5-9e65591f05a3",
   "metadata": {},
   "outputs": [],
   "source": [
    "#client command to call API from python\n",
    "#for_file_type\n",
    "import requests\n",
    "\n",
    "url = 'http://deploymentdomain/inference/inference'  # Update the URL with your server details\n",
    "data = {\n",
    "    'username': 'usernamegiventoclient',\n",
    "    'password': 'passwordgiventoclient',\n",
    "    'input_type': 'file',  # or 'file' depending on your input\n",
    "    'input_value': 'filename.svs',  # path to the directory or file\n",
    "    'mgfnlevel': 10,  # replace with the desired magnification level\n",
    "}\n",
    "\n",
    "response = requests.post(url, data=data)\n",
    "\n",
    "print(response.text)\n"
   ]
  },
  {
   "cell_type": "code",
   "execution_count": null,
   "id": "fca46a8d-3de9-487d-b0af-6f8c1e18b7e4",
   "metadata": {},
   "outputs": [],
   "source": [
    "#client command to call api from linux console\n",
    "\n",
    "curl -X POST -d \"username=usernamegiventoclient&password=passwordgiventoclient&input_type=file&input_value=filename.svs&mgfnlevel=10\" http://deploymentdomain/inference/inference"
   ]
  },
  {
   "cell_type": "code",
   "execution_count": null,
   "id": "da7580f3-627b-42f6-a546-fb40e64cabaa",
   "metadata": {},
   "outputs": [],
   "source": [
    "#client command to call api from linux console\n",
    "\n",
    "curl -X POST -d \"username=usernamegiventoclient&password=passwordgiventoclient&input_type=directory&input_value=foldername&mgfnlevel=10\" http://deploymentdomain/inference/inference"
   ]
  },
  {
   "cell_type": "code",
   "execution_count": null,
   "id": "ac2e6f13-c6a4-4fb5-b9e3-6a728c06753e",
   "metadata": {},
   "outputs": [],
   "source": []
  }
 ],
 "metadata": {
  "kernelspec": {
   "display_name": "Python 3 (ipykernel)",
   "language": "python",
   "name": "python3"
  },
  "language_info": {
   "codemirror_mode": {
    "name": "ipython",
    "version": 3
   },
   "file_extension": ".py",
   "mimetype": "text/x-python",
   "name": "python",
   "nbconvert_exporter": "python",
   "pygments_lexer": "ipython3",
   "version": "3.10.12"
  }
 },
 "nbformat": 4,
 "nbformat_minor": 5
}
